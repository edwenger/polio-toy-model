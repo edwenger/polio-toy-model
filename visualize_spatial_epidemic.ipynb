{
 "cells": [
  {
   "cell_type": "code",
   "execution_count": null,
   "metadata": {},
   "outputs": [],
   "source": [
    "from plotly.offline import init_notebook_mode, iplot\n",
    "import plotly.graph_objs as go\n",
    "import numpy as np"
   ]
  },
  {
   "cell_type": "code",
   "execution_count": null,
   "metadata": {},
   "outputs": [],
   "source": [
    "from plot import get_generation"
   ]
  },
  {
   "cell_type": "code",
   "execution_count": null,
   "metadata": {},
   "outputs": [],
   "source": [
    "# initialize notebook for offline plotting \n",
    "init_notebook_mode()\n",
    "\n",
    "# Set initial slider/title index\n",
    "start_index = 0\n",
    "\n",
    "# Build all traces with visible=False\n",
    "data = []\n",
    "\n",
    "for g in range(26*3):\n",
    "    \n",
    "    generation_df = get_generation(g)\n",
    "    \n",
    "    # village locations + sizes colored by susceptibility\n",
    "    data.append(go.Scatter(\n",
    "        visible = False,\n",
    "        mode='markers',\n",
    "        name = 'Generation = %d' % g,\n",
    "        x = generation_df.x,\n",
    "        y = generation_df.y,\n",
    "        marker = dict(size=20*(np.log10(generation_df.N)-1)/3,\n",
    "                      color=generation_df.S/generation_df.N,\n",
    "                      colorscale='Greys')\n",
    "    ))\n",
    "    \n",
    "    # infected individuals in red\n",
    "    data.append(go.Scatter(\n",
    "        visible = False,\n",
    "        mode='markers',\n",
    "        name = 'Generation = %d' % g,\n",
    "        x = generation_df.x,\n",
    "        y = generation_df.y,\n",
    "        marker = dict(size=0.1*generation_df.I, color='firebrick')\n",
    "    ))\n",
    "\n",
    "# Make initial trace visible\n",
    "data[start_index]['visible'] = True"
   ]
  },
  {
   "cell_type": "code",
   "execution_count": null,
   "metadata": {},
   "outputs": [],
   "source": [
    "# Build slider steps\n",
    "steps = []\n",
    "for i in range(len(data)//2):\n",
    "    step = dict(\n",
    "        # Update method allows us to update both trace and layout properties\n",
    "        method = 'update',  \n",
    "        args = [\n",
    "            # Make the ith trace visible\n",
    "            {'visible': [t//2 == i for t in range(len(data))]},  # drawing both susceptible + infected per timestep\n",
    "            \n",
    "            # Set the title for the ith trace\n",
    "            {'title.text': 'Generation %d' % i}],\n",
    "    )\n",
    "    steps.append(step)\n",
    "\n",
    "# Build sliders\n",
    "sliders = [go.layout.Slider(\n",
    "    active = 0,\n",
    "    currentvalue = {\"prefix\": \"Generation: \"},\n",
    "    steps = steps\n",
    ")]"
   ]
  },
  {
   "cell_type": "code",
   "execution_count": null,
   "metadata": {},
   "outputs": [],
   "source": [
    "layout = go.Layout(\n",
    "    sliders=sliders,\n",
    "    title={'text': 'Generation %d' % start_index},\n",
    "    xaxis={'domain': [0, 1]},\n",
    "    yaxis={'domain': [0, 1]},\n",
    "    width=900,\n",
    "    height=700,\n",
    "    showlegend=False\n",
    ")\n",
    "\n",
    "fig = go.Figure(data=data, layout=layout)\n",
    "\n",
    "iplot(fig)"
   ]
  },
  {
   "cell_type": "code",
   "execution_count": null,
   "metadata": {},
   "outputs": [],
   "source": []
  }
 ],
 "metadata": {
  "kernelspec": {
   "display_name": "Python 3",
   "language": "python",
   "name": "python3"
  },
  "language_info": {
   "codemirror_mode": {
    "name": "ipython",
    "version": 3
   },
   "file_extension": ".py",
   "mimetype": "text/x-python",
   "name": "python",
   "nbconvert_exporter": "python",
   "pygments_lexer": "ipython3",
   "version": "3.6.3"
  }
 },
 "nbformat": 4,
 "nbformat_minor": 2
}
